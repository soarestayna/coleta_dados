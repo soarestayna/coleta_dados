{
 "cells": [
  {
   "metadata": {},
   "cell_type": "markdown",
   "source": "# Web Scraping – Extração de Conteúdo da Wikipédia",
   "id": "954fc944f5de2a2f"
  },
  {
   "metadata": {},
   "cell_type": "markdown",
   "source": [
    "#### Aqui realizamos a coleta e análise de conteúdo textual da página da Wikipédia sobre **Python**, utilizando técnicas de **web scraping** com as bibliotecas `requests`, `BeautifulSoup` e `pandas`.\n",
    "\n",
    "#### O objetivo é explorar a estrutura HTML da página, extrair títulos, parágrafos e links, e entender como navegar por elementos específicos para fins de análise ou automação."
   ],
   "id": "8e408371b2cd6b8c"
  },
  {
   "metadata": {},
   "cell_type": "markdown",
   "source": "#### 1. Importando bibliotecas",
   "id": "adfed67315f3f220"
  },
  {
   "metadata": {
    "jupyter": {
     "is_executing": true
    }
   },
   "cell_type": "code",
   "source": [
    "import requests\n",
    "from bs4 import BeautifulSoup"
   ],
   "id": "f92bafc883708db6",
   "outputs": [],
   "execution_count": null
  },
  {
   "metadata": {},
   "cell_type": "markdown",
   "source": [
    "### 2. Definindo a URL e fazendo a requisição\n",
    "\n",
    "Usei `requests.get()` para acessar o conteúdo da página da Wikipédia sobre Python, em seguida, `BeautifulSoup` interpreta o HTML para facilitar a extração de dados."
   ],
   "id": "7a73abcd0fd90e54"
  },
  {
   "metadata": {},
   "cell_type": "code",
   "outputs": [],
   "execution_count": null,
   "source": [
    "url = 'https://pt.wikipedia.org/wiki/Python'\n",
    "requisicao = requests.get(url)\n",
    "extracao = BeautifulSoup(requisicao.text, 'html.parser')"
   ],
   "id": "8ce779fbd3579d13"
  },
  {
   "metadata": {},
   "cell_type": "markdown",
   "source": [
    "### 3. Exibindo o texto completo da página\n",
    "\n",
    "Esse comando mostra todo o texto da página, sem formatação, é útil para verificar se a requisição funcionou corretamente."
   ],
   "id": "bbef2841042cddc9"
  },
  {
   "cell_type": "code",
   "execution_count": null,
   "id": "initial_id",
   "metadata": {
    "collapsed": true
   },
   "outputs": [],
   "source": "print(extracao.text.strip())"
  },
  {
   "metadata": {},
   "cell_type": "markdown",
   "source": [
    "### 4. Filtrando apenas os títulos (<\"h2\">)\n",
    "\n",
    "Aqui busquei todas as tags <\"h2\">, que geralmente representam seções principais da página."
   ],
   "id": "d6145b679fe01683"
  },
  {
   "metadata": {},
   "cell_type": "code",
   "outputs": [],
   "execution_count": null,
   "source": [
    "for linha_texto in extracao.find_all('h2'):\n",
    "    titulo = linha_texto.text.strip()\n",
    "    print('Título: ', titulo)"
   ],
   "id": "aee85ecdfd1683ce"
  },
  {
   "metadata": {},
   "cell_type": "markdown",
   "source": [
    "### 5. Contando títulos e parágrafos\n",
    "\n",
    "Esse bloco percorre a página e conta quantas tags <\"h2\"> e <\"p\"> existem.\n",
    "\n",
    "É útil para entender a estrutura textual da página."
   ],
   "id": "ad234b8b39155821"
  },
  {
   "metadata": {},
   "cell_type": "code",
   "outputs": [],
   "execution_count": null,
   "source": [
    "contar_titulos = 0\n",
    "contar_paragrafos = 0\n",
    "\n",
    "for linha_texto in extracao.find_all(['h2', 'p']):\n",
    "    if linha_texto.name == 'h2':\n",
    "        contar_titulos += 1\n",
    "    elif linha_texto.name == 'p':\n",
    "        contar_paragrafos += 1\n",
    "\n",
    "print('Total de títulos: ', contar_titulos)\n",
    "print('Total de parágrafos: ', contar_paragrafos)"
   ],
   "id": "6729a55a7d20128d"
  },
  {
   "metadata": {},
   "cell_type": "markdown",
   "source": [
    "### 6. Exibindo o conteúdo das tags <\"h2\"> e <\"p\">\n",
    "\n",
    "Aqui mostro o conteúdo de cada título e parágrafo separadamente, com formatação mais clara."
   ],
   "id": "4674452df440af25"
  },
  {
   "metadata": {},
   "cell_type": "code",
   "outputs": [],
   "execution_count": null,
   "source": [
    "for linha_texto in extracao.find_all(['h2', 'p']):\n",
    "    if linha_texto.name == 'h2':\n",
    "        titulo = linha_texto.text.strip()\n",
    "        print('Título: \\n', titulo)\n",
    "    elif linha_texto.name == 'p':\n",
    "        paragrafo = linha_texto.text.strip()\n",
    "        print('Parágrafo: \\n', paragrafo)"
   ],
   "id": "4ebafea01cd558e"
  },
  {
   "metadata": {},
   "cell_type": "markdown",
   "source": [
    "### 7. Extraindo links dentro de seções\n",
    "\n",
    "Esse trecho busca todos os links que aparecem após cada título <\"h2\">.\n",
    "\n",
    "Mostra o texto do link e o endereço (href), útil para mapear referências da página."
   ],
   "id": "6dd41d6b92d4ac48"
  },
  {
   "metadata": {},
   "cell_type": "code",
   "outputs": [],
   "execution_count": null,
   "source": [
    "for titulo in extracao.find_all('h2'):\n",
    "    print('\\nTítulo: ', titulo.text.strip())\n",
    "    for link in titulo.find_next_siblings():\n",
    "        for a in link.find_all('a', href=True):\n",
    "            print('Texto do link: ', a.text.strip(), ' | URL: ', a[\"href\"])"
   ],
   "id": "2dbfbc105ce4c9e1"
  }
 ],
 "metadata": {
  "kernelspec": {
   "display_name": "Python 3",
   "language": "python",
   "name": "python3"
  },
  "language_info": {
   "codemirror_mode": {
    "name": "ipython",
    "version": 2
   },
   "file_extension": ".py",
   "mimetype": "text/x-python",
   "name": "python",
   "nbconvert_exporter": "python",
   "pygments_lexer": "ipython2",
   "version": "2.7.6"
  }
 },
 "nbformat": 4,
 "nbformat_minor": 5
}
