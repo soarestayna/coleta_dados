{
 "cells": [
  {
   "metadata": {},
   "cell_type": "markdown",
   "source": "#  Conexão com Banco de Dados e Conversão de Arquivos",
   "id": "8e539d55c00e2570"
  },
  {
   "metadata": {},
   "cell_type": "markdown",
   "source": [
    "#### Aqui exploramos como conectar-se a um banco de dados MySQL, extrair dados em formato tabular e convertê-los entre diferentes formatos: **Excel, CSV e JSON**.\n",
    "#### Utilizamos as bibliotecas `pymysql`, `sqlalchemy` e `pandas` para realizar essas operações."
   ],
   "id": "4301dba1baa7f80a"
  },
  {
   "metadata": {},
   "cell_type": "markdown",
   "source": [
    "### 1. Importação de Bibliotecas\n",
    "\n",
    "- `pymysql` – Permite conectar o Python a bancos de dados MySQL, é uma alternativa para executar consultas SQL e manipular dados armazenados em servidores.\n",
    "> - `pymysql.connect()` – cria a conexão com o banco\n",
    "> - `cursor.execute()` – executa comandos SQL\n",
    "> - `cursor.fetchall()` – retorna os resultados da consulta\n",
    "\n",
    "- `sqlalchemy` – Facilita a criação de conexões com bancos de dados, é muito utilizada em projetos maiores por permitir integração com diversos bancos e suporte a ORM (Object Relational Mapping).\n",
    "> - `create_engine()` – cria uma engine de conexão com o banco\n",
    "> - `pd.read_sql()` – extrai dados diretamente como DataFrame usando a engine\n",
    "\n",
    "\n",
    " Obs:\n",
    "- `pymysql` - usado para conexões diretas e controle manual das consultas.\n",
    "- `sqlalchemy` - usado para uma integração mais fluida com o `pandas`, principalmente em análises tabulares.\n",
    "\n"
   ],
   "id": "2ff1861c48464256"
  },
  {
   "metadata": {},
   "cell_type": "code",
   "outputs": [],
   "execution_count": null,
   "source": [
    "import pymysql\n",
    "from sqlalchemy import create_engine\n",
    "import pandas as pd"
   ],
   "id": "f04f9836f2b56b1d"
  },
  {
   "metadata": {},
   "cell_type": "markdown",
   "source": [
    "### 2. Função de Conexão com MySQL (modo básico)\n",
    "\n",
    "Essa função realiza uma conexão direta com o banco de dados MySQL e imprime os primeiros registros da tabela especificada.\n",
    "- `conn = pymysql.connect(...)` - Cria uma conexão usando as credenciais fornecidas.\n",
    "-  `cursor = conn.cursor()` - Permite executar comandos SQL e navegar pelos resultados.\n",
    "- `query`, `cursor.execute(query)` - Monta e executa uma query.\n",
    "- `resultados = cursor.fetchall()` - Extrai todos os resultados da consulta em forma de tupla.\n",
    "- `cursor.close()`, `conn.close()` - Fecha o cursor e a conexão para liberar recursos.\n"
   ],
   "id": "c887ed93a59bfcb7"
  },
  {
   "metadata": {},
   "cell_type": "code",
   "outputs": [],
   "execution_count": null,
   "source": [
    "def conexao_mysql(host, user, password, database, table):\n",
    "    conn = pymysql.connect(host=host, user=user, password=password, database=database)\n",
    "    cursor = conn.cursor()\n",
    "\n",
    "    query = f\"SELECT * FROM {table} LIMIT 10\"\n",
    "    cursor.execute(query)\n",
    "    resultados = cursor.fetchall()\n",
    "\n",
    "    print('Tabela MySQL')\n",
    "    for linha in resultados:\n",
    "        print(linha)\n",
    "\n",
    "    cursor.close()\n",
    "    conn.close()"
   ],
   "id": "c5fabc5fad77d900"
  },
  {
   "metadata": {},
   "cell_type": "markdown",
   "source": [
    "### 3. Conexão com MySQL usando pandas e sqlalchemy\n",
    "\n",
    "Essa função utiliza sqlalchemy para criar uma engine de conexão e extrai os dados diretamente como um DataFrame do pandas.\n",
    "\n",
    "- engine `= create_engine`(f\"mysql+pymysql://{user}:{password}@{host}/{database}\") - Utiliza SQLAlchemy com o driver pymysql para criar uma engine que gerencia a conexão com o banco.\n",
    "- query = f\"SELECT * FROM {table}\" - Gera a consulta para extrair todos os dados da tabela especificada\n",
    "- df = `pd.read_sql`(query, engine) - Executa a query e carrega os dados diretamente em um DataFrame\n",
    "- `print`(df.`head(10)`) - Mostra os 10 primeiros registros da tabela para visualização rápida.\n",
    "- `return` df - Retorna e permite que o DataFrame seja reutilizado em outras partes do código."
   ],
   "id": "ab3f58cbcb0b702e"
  },
  {
   "metadata": {},
   "cell_type": "code",
   "outputs": [],
   "execution_count": null,
   "source": [
    "def df_conexao_mysql(host, user, password, database, table):\n",
    "    engine = create_engine(f\"mysql+pymysql://{user}:{password}@{host}/{database}\")\n",
    "    query = f\"SELECT * FROM {table}\"\n",
    "    df = pd.read_sql(query, engine)\n",
    "    print('Tabela MySQL com DataFrame: \\n', df.head(10))\n",
    "    return df"
   ],
   "id": "de5f15e0f8f84091"
  },
  {
   "metadata": {},
   "cell_type": "markdown",
   "source": [
    "### 5. Função para ler Excel e salvar como CSV\n",
    "\n",
    "Lê um arquivo Excel e converte para CSV, mantendo os dados estruturados."
   ],
   "id": "240a8b9db64d53b8"
  },
  {
   "metadata": {},
   "cell_type": "code",
   "outputs": [],
   "execution_count": null,
   "source": [
    "def conexao_excel(path):\n",
    "    df = pd.read_excel(path)\n",
    "    print('Dados Excel: \\n', df.head())\n",
    "    df.to_csv('dados.csv', index=False)\n"
   ],
   "id": "62a07df0601a5d22"
  },
  {
   "metadata": {},
   "cell_type": "markdown",
   "source": [
    "### 5. Função para ler CSV e salvar como JSON\n",
    "\n",
    "Lê um arquivo CSV e converte para JSON, útil para aplicações web e APIs."
   ],
   "id": "da9f349e144420dd"
  },
  {
   "metadata": {},
   "cell_type": "code",
   "outputs": [],
   "execution_count": null,
   "source": [
    "def conexao_csv(path):\n",
    "    df = pd.read_csv(path)\n",
    "    print('Dados CSV: \\n', df.head())\n",
    "    df.to_json('dados.json', orient='records', index=False)"
   ],
   "id": "f07361c22ccc428"
  },
  {
   "metadata": {},
   "cell_type": "markdown",
   "source": "### 6. Execução das Funções",
   "id": "e3d0e3a651e9c7b5"
  },
  {
   "cell_type": "code",
   "execution_count": null,
   "id": "initial_id",
   "metadata": {
    "collapsed": true
   },
   "outputs": [],
   "source": [
    "conexao_mysql(\n",
    "    'localhost',\n",
    "    'root',\n",
    "    '',\n",
    "    'loja_informatica',\n",
    "    'cliente'\n",
    ")\n",
    "\n",
    "df_cliente = df_conexao_mysql(\n",
    "    'localhost',\n",
    "    'root',\n",
    "    '',\n",
    "    'loja_informatica',\n",
    "    'cliente'\n",
    ")\n",
    "\n",
    "df_cliente.to_excel('dados.xlsx', index=False)\n",
    "conexao_excel('../dados.xlsx')\n",
    "conexao_csv('../dados.csv')"
   ]
  }
 ],
 "metadata": {
  "kernelspec": {
   "display_name": "Python 3",
   "language": "python",
   "name": "python3"
  },
  "language_info": {
   "codemirror_mode": {
    "name": "ipython",
    "version": 2
   },
   "file_extension": ".py",
   "mimetype": "text/x-python",
   "name": "python",
   "nbconvert_exporter": "python",
   "pygments_lexer": "ipython2",
   "version": "2.7.6"
  }
 },
 "nbformat": 4,
 "nbformat_minor": 5
}
