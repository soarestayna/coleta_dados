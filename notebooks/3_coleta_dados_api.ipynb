{
 "cells": [
  {
   "metadata": {},
   "cell_type": "markdown",
   "source": "# Upload e Download de Arquivos com requests",
   "id": "f337feb1182ce5f6"
  },
  {
   "metadata": {},
   "cell_type": "markdown",
   "source": "#### Aqui exploramos o uso da biblioteca `requests` para realizar operações de **upload** e **download** de arquivos via API, utilizando o serviço [GoFile.io](https://gofile.io).",
   "id": "fc4da4784ff270d3"
  },
  {
   "metadata": {},
   "cell_type": "markdown",
   "source": "### 1. Importação de Bibliotecas",
   "id": "3b8a0f06bd877a9e"
  },
  {
   "metadata": {},
   "cell_type": "code",
   "outputs": [],
   "execution_count": null,
   "source": "import requests",
   "id": "bcc40d8a66bf026d"
  },
  {
   "metadata": {},
   "cell_type": "markdown",
   "source": [
    "### 2. Função para Enviar Arquivo (sem chave de API)\n",
    "\n",
    "Essa função realiza o upload de um arquivo local para o GoFile sem autenticação. O link de acesso ao arquivo é exibido ao final."
   ],
   "id": "ce09331cd6d5b708"
  },
  {
   "metadata": {},
   "cell_type": "code",
   "outputs": [],
   "execution_count": null,
   "source": [
    "def enviar_arquivo():\n",
    "    caminho = 'C:/Users/LEAO/Downloads/produtos_informatica.xlsx'\n",
    "    requisicao = requests.post('https://upload.gofile.io/uploadFile', files={'file': open(caminho, 'rb')})\n",
    "    saida_requisicao = requisicao.json()\n",
    "\n",
    "    print(saida_requisicao)\n",
    "    url = saida_requisicao['data']['downloadPage']\n",
    "    print('Arquivo enviado. Link para acesso: ', url)"
   ],
   "id": "3bcaa2363a8b9349"
  },
  {
   "metadata": {},
   "cell_type": "markdown",
   "source": [
    "### 3. Função para Enviar Arquivo com Chave de API\n",
    "\n",
    "Essa versão inclui autenticação via chave de API, útil para uploads em contas específicas ou com permissões avançadas.\n"
   ],
   "id": "83fffb81faf17541"
  },
  {
   "metadata": {},
   "cell_type": "code",
   "outputs": [],
   "execution_count": null,
   "source": [
    "def enviar_arquivo_chave():\n",
    "    caminho = 'C:/Users/LEAO/Downloads/produtos_informatica.xlsx'\n",
    "    chave_acesso = 'G83pPYmIZ0kz5PZ5EYwSvPLlzJeziNq9'  # API KEY\n",
    "\n",
    "    requisicao = requests.post(\n",
    "        'https://upload.gofile.io/uploadFile',\n",
    "        files={'file': open(caminho, 'rb')},\n",
    "        headers={'Authorization': chave_acesso}\n",
    "    )\n",
    "    saida_requisicao = requisicao.json()\n",
    "\n",
    "    print(saida_requisicao)\n",
    "    url = saida_requisicao['data']['downloadPage']\n",
    "    print('Arquivo enviado. Link para acesso: ', url)"
   ],
   "id": "fc473ed7e53235e2"
  },
  {
   "metadata": {},
   "cell_type": "markdown",
   "source": [
    "###  4. Função para Receber (Baixar) Arquivo\n",
    "\n",
    "Essa função realiza o download de um arquivo hospedado no GoFile a partir da URL de acesso."
   ],
   "id": "e5dd75d88f61f57a"
  },
  {
   "metadata": {},
   "cell_type": "code",
   "outputs": [],
   "execution_count": null,
   "source": [
    "def receber_arquivo(file_url):\n",
    "    requisicao = requests.get(file_url)\n",
    "\n",
    "    if requisicao.ok:\n",
    "        with open('../arquivo_baixado.xlsx', 'wb') as file:\n",
    "            file.write(requisicao.content)\n",
    "        print('Arquivo baixado com sucesso.')\n",
    "    else:\n",
    "        print('Erro ao baixar o arquivo: ', requisicao.json())"
   ],
   "id": "f15501aeee9f5b2c"
  },
  {
   "metadata": {},
   "cell_type": "markdown",
   "source": "### 5. Execução das Funções",
   "id": "7758f94d0cae2a31"
  },
  {
   "metadata": {},
   "cell_type": "code",
   "outputs": [],
   "execution_count": null,
   "source": [
    "enviar_arquivo()\n",
    "# enviar_arquivo_chave()\n",
    "receber_arquivo('https://gofile.io/d/1569En')"
   ],
   "id": "508cc30f8204cc1b"
  },
  {
   "metadata": {},
   "cell_type": "markdown",
   "source": [
    "#### Observações\n",
    "> - Certifique-se de que o caminho do arquivo está correto e que o arquivo existe.\n",
    "> - A chave de API é opcional, mas pode ser necessária para uploads em contas autenticadas.\n",
    "> - O link de download deve ser público ou acessível para que o download funcione corretamente."
   ],
   "id": "94dd729a0a7ceb7a"
  },
  {
   "metadata": {},
   "cell_type": "markdown",
   "source": [
    "#### Conclusão\n",
    "\n",
    "- Este notebook demonstra como interagir com APIs para envio e recebimento de arquivos, utilizando a biblioteca requests.\n",
    "- E desenvolvimento de habilidades para automações, integrações com sistemas externos e manipulação de dados em ambientes distribuídos."
   ],
   "id": "d323ac3cf37425c"
  }
 ],
 "metadata": {
  "kernelspec": {
   "display_name": "Python 3",
   "language": "python",
   "name": "python3"
  },
  "language_info": {
   "codemirror_mode": {
    "name": "ipython",
    "version": 2
   },
   "file_extension": ".py",
   "mimetype": "text/x-python",
   "name": "python",
   "nbconvert_exporter": "python",
   "pygments_lexer": "ipython2",
   "version": "2.7.6"
  }
 },
 "nbformat": 4,
 "nbformat_minor": 5
}
