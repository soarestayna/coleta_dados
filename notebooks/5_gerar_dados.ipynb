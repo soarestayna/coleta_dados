{
 "cells": [
  {
   "metadata": {},
   "cell_type": "markdown",
   "source": "# Geração de Dados Sintéticos com Faker, random e pandas",
   "id": "19b3dc5f548ed587"
  },
  {
   "metadata": {},
   "cell_type": "markdown",
   "source": "#### O objetivo é simular um conjunto de dados de clientes brasileiros, com informações como nome, CPF, idade, endereço, telefone e e-mail, utilizando bibliotecas Python para geração e organização dos dados.",
   "id": "19c303ded353f579"
  },
  {
   "metadata": {},
   "cell_type": "markdown",
   "source": [
    "### 1. Importando Bibliotecas\n",
    "\n",
    "- `Pandas` - Biblioteca para manipulação e análise de dados tabulares.\n",
    "> - `pd.DataFrame()` - cria uma tabela com os dados gerados\n",
    "> - `df.to_csv()` - exporta os dados para um arquivo .csv\n",
    "> - `pd.set_option()` - configurações de exibição no terminal\n",
    "\n",
    "- `Faker` - Biblioteca especializada em gerar dados sintéticos realistas, como nomes, CPFs, endereços, datas, etc.\n",
    "> - `Faker('pt_BR')` - gera dados no formato brasileiro\n",
    "> - `faker.name()` - nome completo\n",
    "> - `faker.cpf()` - CPF válido\n",
    "> - `faker.date_of_birth()` - data de nascimento com controle de idade\n",
    "> - `faker.address() / faker.state()` - endereço e estado brasileiros\n",
    "\n",
    "- `random` - Biblioteca nativa do Python para gerar números aleatórios.\n",
    "> - `random.randint(18, 60)` - gera uma idade entre 18 e 60 anos\n"
   ],
   "id": "46968bcd05c8f461"
  },
  {
   "metadata": {},
   "cell_type": "code",
   "outputs": [],
   "execution_count": null,
   "source": [
    "import pandas as pd\n",
    "import random\n",
    "from faker import Faker"
   ],
   "id": "4a46dc1a698c11ce"
  },
  {
   "metadata": {},
   "cell_type": "markdown",
   "source": [
    "### 2. Inicializando gerador de dados\n",
    "\n",
    "\n",
    "Define o idioma como português do Brasil."
   ],
   "id": "4c9c823c54ddf85d"
  },
  {
   "metadata": {},
   "cell_type": "code",
   "outputs": [],
   "execution_count": null,
   "source": "faker = Faker('pt_BR')",
   "id": "368b2bfc0312423e"
  },
  {
   "metadata": {},
   "cell_type": "markdown",
   "source": [
    "### 3. Gerando dados fictícios\n",
    "\n",
    "Gera registros com informações variadas de clientes."
   ],
   "id": "5fcb9a51cb493819"
  },
  {
   "metadata": {},
   "cell_type": "code",
   "outputs": [],
   "execution_count": null,
   "source": [
    "dados_pessoas = []\n",
    "\n",
    "for _ in range(10):\n",
    "    nome = faker.name()\n",
    "    cpf = faker.cpf()\n",
    "    idade = random.randint(18, 60)\n",
    "    data = faker.date_of_birth(minimum_age=idade, maximum_age=idade).strftime('%d/%m/%Y')\n",
    "    endereco = faker.address()\n",
    "    estado = faker.state()\n",
    "    pais = 'Brasil'\n",
    "\n",
    "    pessoa = {\n",
    "        'nome': nome,\n",
    "        'cpf': cpf,\n",
    "        'idade': idade,\n",
    "        'data': data,\n",
    "        'endereco': endereco,\n",
    "        'estado': estado,\n",
    "        'pais': pais,\n",
    "    }\n",
    "\n",
    "    dados_pessoas.append(pessoa)"
   ],
   "id": "10f6241b7ae422f2"
  },
  {
   "metadata": {},
   "cell_type": "markdown",
   "source": [
    "### 4. Criando DataFrame com os dados\n",
    "\n",
    "Organiza os dados em formato tabular."
   ],
   "id": "ee913c2477bb6214"
  },
  {
   "metadata": {},
   "cell_type": "code",
   "outputs": [],
   "execution_count": null,
   "source": [
    "df_pessoas = pd.DataFrame(dados_pessoas)\n",
    "print(df_pessoas)"
   ],
   "id": "d86267d1360caa88"
  },
  {
   "metadata": {},
   "cell_type": "markdown",
   "source": [
    "### 5. Configurando exibição no notebook\n",
    "\n",
    "Ajusta as opções de exibição para mostrar o conteúdo completo no terminal, sem truncamentos"
   ],
   "id": "2117d6fa8e3762e5"
  },
  {
   "metadata": {},
   "cell_type": "code",
   "outputs": [],
   "execution_count": null,
   "source": [
    "pd.set_option('display.max_columns', None)\n",
    "pd.set_option('display.max_rows', None)\n",
    "pd.set_option('display.max_colwidth', None)\n",
    "pd.set_option('display.width', None)"
   ],
   "id": "359169c76bf252d2"
  },
  {
   "metadata": {},
   "cell_type": "markdown",
   "source": [
    "### 6. Visualizando os dados gerados\n",
    "\n",
    "Exibe todos os registros gerados."
   ],
   "id": "683f4b698eb62a5f"
  },
  {
   "metadata": {},
   "cell_type": "code",
   "outputs": [],
   "execution_count": null,
   "source": "print(df_pessoas.to_string())",
   "id": "4f8771b52926a12a"
  },
  {
   "metadata": {},
   "cell_type": "markdown",
   "source": [
    "### 7. Exportando os dados para CSV\n",
    "\n",
    "Salva os dados em um arquivo chamado\n",
    "`clientes.csv`."
   ],
   "id": "304d3dc2b9ca9bbb"
  },
  {
   "metadata": {},
   "cell_type": "code",
   "outputs": [],
   "execution_count": null,
   "source": "df_pessoas.to_csv('clientes.csv')",
   "id": "cccbb2913f39fcbd"
  },
  {
   "metadata": {},
   "cell_type": "markdown",
   "source": [
    "#### Considerações Técnicas\n",
    "\n",
    "- Gerar dados sintéticos é uma prática comum para testes, protótipos e treinamentos, especialmente quando dados reais não estão disponíveis ou não podem ser compartilhados.\n",
    "- O uso de faker.date_of_birth(minimum_age=idade) garante que a idade e a data estejam coerentes.\n",
    "- Exportar para CSV permite reaproveitar os dados em outros notebooks ou ferramentas como Excel, Power BI ou SQL."
   ],
   "id": "4daf756bce24e27b"
  }
 ],
 "metadata": {
  "kernelspec": {
   "display_name": "Python 3",
   "language": "python",
   "name": "python3"
  },
  "language_info": {
   "codemirror_mode": {
    "name": "ipython",
    "version": 2
   },
   "file_extension": ".py",
   "mimetype": "text/x-python",
   "name": "python",
   "nbconvert_exporter": "python",
   "pygments_lexer": "ipython2",
   "version": "2.7.6"
  }
 },
 "nbformat": 4,
 "nbformat_minor": 5
}
